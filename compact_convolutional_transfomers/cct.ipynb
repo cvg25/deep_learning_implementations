{
 "cells": [
  {
   "cell_type": "markdown",
   "id": "6cc82030-52d4-49e5-961a-fa2b46af9c90",
   "metadata": {},
   "source": [
    "# __Compact Convolutional Transformers__\n",
    "\n",
    "Pytorch reimplementation of this Keras [tutorial](https://keras.io/examples/vision/cct/)"
   ]
  },
  {
   "cell_type": "markdown",
   "id": "73f3a686-5f5a-4f23-a21a-a75b68e27511",
   "metadata": {},
   "source": [
    "As discussed in the ViT paper, a Transformer-based architecture for vision often requires typically a larger dataset than usual, as well as a longer pre-training schedule. This is primarily because, unlike CNNs, a typical Transformer-based architecture do not have well-informed inductive biases (i.e., CNNs exploit locality: features are generated using local pixels and then combined hierarchically). \n",
    "\n",
    "This begs the question: __can't we combine the benefits of convolution and the benefits of Transformers in a single netweok architecture?__ These benefits include paarameter-efficiency, and self-attention to process long-range and global dependencies (înteractions between different regions in an image).\n",
    "\n",
    "In [Escaping tthe Big Data Paradigm with Compact Transformers](https://arxiv.org/abs/2104.05704), Hassani et al. present an approach for doing exactly this: the __Compact Convolutional Transformer (CCT)__ architecture."
   ]
  },
  {
   "cell_type": "markdown",
   "id": "b57ffd0a-77f8-40b4-9e28-1ecb9f9ff7be",
   "metadata": {},
   "source": [
    "## Imports"
   ]
  },
  {
   "cell_type": "code",
   "execution_count": 1,
   "id": "ab2d8242-1d6b-45ec-a11d-33f7fd730410",
   "metadata": {},
   "outputs": [],
   "source": [
    "import torch \n",
    "import torch.nn as nn\n",
    "import matplotlib.pyplot as plt\n",
    "import numpy as np\n",
    "import torchvision\n",
    "import torchvision.transforms as transforms\n",
    "from torch.utils.data import DataLoader"
   ]
  },
  {
   "cell_type": "code",
   "execution_count": null,
   "id": "f336e0c8-2a86-4c5e-ae9f-2abecf7d2fca",
   "metadata": {},
   "outputs": [],
   "source": []
  },
  {
   "cell_type": "markdown",
   "id": "8870048b-0097-4e64-bd88-8364690a74ab",
   "metadata": {},
   "source": [
    "## __The CCT Tokenizer__\n",
    "\n",
    "In a standard ViT, images are organized into uniform _non-overlapping_ patches. This simple patching and embedding method has a few limitations, in particular: loss of information along boundary regions. This is important for a neural network to exploit the locality information. Since CNNs are quite good at exploiting locality information, the authors introduce and all-convolution mini-network to produce image patches."
   ]
  },
  {
   "cell_type": "code",
   "execution_count": 2,
   "id": "7741ecea-ef2b-47b0-85c6-1fb0ef27f883",
   "metadata": {},
   "outputs": [],
   "source": [
    "class CCTConvBlock(nn.Module):\n",
    "\n",
    "    def __init__(self, in_channels, out_channels, kernel_size, stride,  padding, pooling_kernel_size, pooling_stride, act_layer=nn.ReLU):\n",
    "        super().__init__()\n",
    "        self.conv_block = nn.Sequential(nn.Conv2d(in_channels, out_channels, kernel_size, stride, padding='valid', bias=False),\n",
    "                                        act_layer(),\n",
    "                                        nn.ZeroPad2d(padding),\n",
    "                                        nn.MaxPool2d(pooling_kernel_size, pooling_stride))\n",
    "\n",
    "        self.apply(self._init_weights)\n",
    "        \n",
    "    def _init_weights(self, m):\n",
    "        if isinstance(m, nn.Conv2d):\n",
    "            nn.init.kaiming_normal_(m.weight)\n",
    "\n",
    "    def forward(self, x):\n",
    "        return self.conv_block(x)\n",
    "\n",
    "class CCT_Tokenizer(nn.Module):\n",
    "\n",
    "    def __init__(self, img_size, in_channels, out_channels, kernel_size=3, stride=1, padding=1, pooling_kernel_size=3, pooling_stride=2):\n",
    "        super().__init__()\n",
    "\n",
    "        layers = []\n",
    "        for i in range(len(out_channels)):\n",
    "            n_in = in_channels if i == 0 else out_channels[i-1]\n",
    "            n_out = out_channels[i]\n",
    "            layers.append(CCTConvBlock(in_channels=n_in, \n",
    "                                        out_channels=n_out,\n",
    "                                        kernel_size=kernel_size, \n",
    "                                        stride=stride,\n",
    "                                        padding=padding,\n",
    "                                        pooling_kernel_size=pooling_kernel_size,\n",
    "                                        pooling_stride=pooling_stride))\n",
    "\n",
    "        self.tokenizer = nn.Sequential(*layers)\n",
    "        with torch.no_grad(): # dummy forward to get num patches\n",
    "            out = self(torch.randn((1, in_channels, img_size[0], img_size[0])))\n",
    "            _, self.num_patches, _ = out.shape\n",
    "\n",
    "    def forward(self, x):\n",
    "        x = self.tokenizer(x)\n",
    "        B, C, H, W = x.shape\n",
    "        x = x.reshape((B, C, -1)).permute(0,2,1).contiguous()\n",
    "        return x"
   ]
  },
  {
   "cell_type": "markdown",
   "id": "b5e2448f-46da-431e-8d2f-e4824a5de80b",
   "metadata": {},
   "source": [
    "## __Sequence Pooling__\n",
    "\n",
    "Another recipe introduced in CCT is attention pooling or sequence pooling. In ViT, only the feature map corresponding to the class token is pooled and is then used for the subsequent classification task (or any other downstream task)."
   ]
  },
  {
   "cell_type": "code",
   "execution_count": 3,
   "id": "90678cea-aff0-419e-a663-10da124e9bd8",
   "metadata": {},
   "outputs": [],
   "source": [
    "class SequencePooling(nn.Module):\n",
    "\n",
    "    def __init__(self, emb_dim):\n",
    "        super().__init__()\n",
    "        self.attention = nn.Linear(emb_dim, 1)\n",
    "    \n",
    "    def forward(self, x):\n",
    "        attn_weights = torch.nn.functional.softmax(self.attention(x), dim=1)\n",
    "        attn_weights = attn_weights.permute(0,2,1).contiguous()\n",
    "        weighted_representation = (attn_weights @ x).squeeze(1)\n",
    "        return weighted_representation"
   ]
  },
  {
   "cell_type": "markdown",
   "id": "0feebb95-3b68-4a98-8798-cb9d0df26d64",
   "metadata": {},
   "source": [
    "## __CCT: Compact Convolutional Transformer__"
   ]
  },
  {
   "cell_type": "code",
   "execution_count": 11,
   "id": "0395f276-4e62-42f9-add8-82b41a867a9e",
   "metadata": {},
   "outputs": [],
   "source": [
    "# Tranformer code mostly copy-pasted from: https://github.com/facebookresearch/dino/blob/main/vision_transformer.py\n",
    "\n",
    "from torch.nn.init import trunc_normal_\n",
    "\n",
    "def drop_path(x, drop_prob: float = 0., training: bool = False):\n",
    "    if drop_prob == 0. or not training:\n",
    "        return x\n",
    "    keep_prob = 1 - drop_prob\n",
    "    shape = (x.shape[0],) + (1,) * (x.ndim - 1)  # work with diff dim tensors, not just 2D ConvNets\n",
    "    random_tensor = keep_prob + torch.rand(shape, dtype=x.dtype, device=x.device)\n",
    "    random_tensor.floor_()  # binarize\n",
    "    output = x.div(keep_prob) * random_tensor\n",
    "    return output\n",
    "\n",
    "class DropPath(nn.Module):\n",
    "    \"\"\"Drop paths (Stochastic Depth) per sample  (when applied in main path of residual blocks).\n",
    "    \"\"\"\n",
    "    def __init__(self, drop_prob=None):\n",
    "        super(DropPath, self).__init__()\n",
    "        self.drop_prob = drop_prob\n",
    "\n",
    "    def forward(self, x):\n",
    "        return drop_path(x, self.drop_prob, self.training)\n",
    "\n",
    "class Mlp(nn.Module):\n",
    "    def __init__(self, in_features, hidden_features=None, out_features=None, act_layer=nn.GELU, drop=0.):\n",
    "        super().__init__()\n",
    "        out_features = out_features or in_features\n",
    "        hidden_features = hidden_features or in_features\n",
    "        self.fc1 = nn.Linear(in_features, hidden_features)\n",
    "        self.act = act_layer()\n",
    "        self.fc2 = nn.Linear(hidden_features, out_features)\n",
    "        self.drop = nn.Dropout(drop)\n",
    "\n",
    "    def forward(self, x):\n",
    "        x = self.fc1(x)\n",
    "        x = self.act(x)\n",
    "        x = self.drop(x)\n",
    "        x = self.fc2(x)\n",
    "        x = self.drop(x)\n",
    "        return x\n",
    "\n",
    "class Attention(nn.Module):\n",
    "    def __init__(self, dim, num_heads=8, qkv_bias=False, qk_scale=None, attn_drop=0., proj_drop=0.):\n",
    "        super().__init__()\n",
    "        self.num_heads = num_heads\n",
    "        head_dim = dim // num_heads\n",
    "        self.scale = qk_scale or head_dim ** -0.5\n",
    "\n",
    "        self.qkv = nn.Linear(dim, dim * 3, bias=qkv_bias)\n",
    "        self.attn_drop = nn.Dropout(attn_drop)\n",
    "        self.proj = nn.Linear(dim, dim)\n",
    "        self.proj_drop = nn.Dropout(proj_drop)\n",
    "\n",
    "    def forward(self, x):\n",
    "        B, N, C = x.shape\n",
    "        qkv = self.qkv(x).reshape(B, N, 3, self.num_heads, C // self.num_heads).permute(2, 0, 3, 1, 4)\n",
    "        q, k, v = qkv[0], qkv[1], qkv[2]\n",
    "\n",
    "        attn = (q @ k.transpose(-2, -1)) * self.scale\n",
    "        attn = attn.softmax(dim=-1)\n",
    "        attn = self.attn_drop(attn)\n",
    "\n",
    "        x = (attn @ v).transpose(1, 2).reshape(B, N, C)\n",
    "        x = self.proj(x)\n",
    "        x = self.proj_drop(x)\n",
    "        return x, attn\n",
    "\n",
    "class Block(nn.Module):\n",
    "    def __init__(self, dim, num_heads, mlp_ratio=4., qkv_bias=False, qk_scale=None, drop=0., attn_drop=0.,\n",
    "                 drop_path=0., act_layer=nn.GELU, norm_layer=nn.LayerNorm):\n",
    "        super().__init__()\n",
    "        self.norm1 = norm_layer(dim)\n",
    "        self.attn = Attention(\n",
    "            dim, num_heads=num_heads, qkv_bias=qkv_bias, qk_scale=qk_scale, attn_drop=attn_drop, proj_drop=drop)\n",
    "        self.drop_path = DropPath(drop_path) if drop_path > 0. else nn.Identity()\n",
    "        self.norm2 = norm_layer(dim)\n",
    "        mlp_hidden_dim = int(dim * mlp_ratio)\n",
    "        self.mlp = Mlp(in_features=dim, hidden_features=mlp_hidden_dim, act_layer=act_layer, drop=drop)\n",
    "\n",
    "    def forward(self, x, return_attention=False):\n",
    "        y, attn = self.attn(self.norm1(x))\n",
    "        if return_attention:\n",
    "            return attn\n",
    "        x = x + self.drop_path(y)\n",
    "        x = x + self.drop_path(self.mlp(self.norm2(x)))\n",
    "        return x\n",
    "\n",
    "class CCT_Transformer(nn.Module):\n",
    "\n",
    "    def __init__(self, img_size, in_channels, emb_dim, n_classes, num_heads, depth, mlp_ratio=4., qkv_bias=False, qk_scale=None, drop_rate=0., attn_drop_rate=0.,\n",
    "                 drop_path_rate=0., norm_layer=nn.LayerNorm, **kwargs):\n",
    "        \n",
    "        super().__init__()\n",
    "        self.img_size = img_size\n",
    "        self.in_channels = in_channels\n",
    "        self.emb_dim = emb_dim\n",
    "        self.num_heads = num_heads\n",
    "\n",
    "        self.tokenizer = CCT_Tokenizer(img_size=self.img_size, in_channels=self.in_channels, out_channels=[64, self.emb_dim])\n",
    "        self.pos_embed = nn.Parameter(torch.zeros(1, self.tokenizer.num_patches, emb_dim))\n",
    "        self.pos_drop = nn.Dropout(p=drop_rate)\n",
    "\n",
    "        dpr = [x.item() for x in torch.linspace(0, drop_path_rate, depth)]  # stochastic depth decay rule\n",
    "        self.blocks = nn.ModuleList([\n",
    "            Block(\n",
    "                dim=emb_dim, num_heads=num_heads, mlp_ratio=mlp_ratio, qkv_bias=qkv_bias, qk_scale=qk_scale,\n",
    "                drop=drop_rate, attn_drop=attn_drop_rate, drop_path=dpr[i], norm_layer=norm_layer)\n",
    "            for i in range(depth)])\n",
    "        self.norm = norm_layer(emb_dim)\n",
    "\n",
    "        self.classifier_head = nn.Sequential(\n",
    "            SequencePooling(emb_dim=self.emb_dim),\n",
    "            nn.Linear(self.emb_dim, n_classes)\n",
    "        )\n",
    "            \n",
    "        trunc_normal_(self.pos_embed, std=.02)\n",
    "        self.apply(self._init_weights)\n",
    "\n",
    "    def _init_weights(self, m):\n",
    "        if isinstance(m, nn.Linear):\n",
    "            trunc_normal_(m.weight, std=.02)\n",
    "            if isinstance(m, nn.Linear) and m.bias is not None:\n",
    "                nn.init.constant_(m.bias, 0)\n",
    "        elif isinstance(m, nn.LayerNorm):\n",
    "            nn.init.constant_(m.bias, 0)\n",
    "            nn.init.constant_(m.weight, 1.0)\n",
    "    \n",
    "    def prepare_tokens(self, x):\n",
    "        x = self.tokenizer(x)\n",
    "        x = x + self.pos_embed\n",
    "        return self.pos_drop(x)\n",
    "\n",
    "    def forward(self, x):\n",
    "        x = self.prepare_tokens(x)\n",
    "        for blk in self.blocks:\n",
    "            x = blk(x)\n",
    "        x = self.norm(x)\n",
    "        logits = self.classifier_head(x)\n",
    "        return logits\n",
    "    \n",
    "    def get_last_attention(self, x):\n",
    "        x = self.prepare_tokens(x)\n",
    "        for i, blk in enumerate(self.blocks):\n",
    "            if i < len(self.blocks) - 1:\n",
    "                x = blk(x)\n",
    "            else:\n",
    "                # return attention of the last block\n",
    "                return blk(x, return_attention=True)"
   ]
  },
  {
   "cell_type": "markdown",
   "id": "7f8c3b47-99ec-4ce0-99dd-ce273f6620e5",
   "metadata": {},
   "source": [
    "## Hyperparameters and constants"
   ]
  },
  {
   "cell_type": "code",
   "execution_count": 5,
   "id": "64348982-7b03-4e9c-8bcb-d879bd5d2a8e",
   "metadata": {},
   "outputs": [],
   "source": [
    "emb_dim = 128\n",
    "num_heads = 2\n",
    "depth = 2\n",
    "stochastic_depth_rate = 0.1\n",
    "\n",
    "learning_rate = 0.001\n",
    "weight_decay = 0.0001\n",
    "batch_size = 128\n",
    "num_epochs = 30\n",
    "image_size = 32\n",
    "image_ch = 3"
   ]
  },
  {
   "cell_type": "markdown",
   "id": "38b6896a-637e-42fc-8f9c-ff1b8af1122b",
   "metadata": {},
   "source": [
    "## Dataset"
   ]
  },
  {
   "cell_type": "code",
   "execution_count": 6,
   "id": "b7a7ea16-3136-4092-9ec5-106e33f73a24",
   "metadata": {},
   "outputs": [
    {
     "name": "stdout",
     "output_type": "stream",
     "text": [
      "Files already downloaded and verified\n",
      "Files already downloaded and verified\n",
      "# Classes: 10 -> ['airplane', 'automobile', 'bird', 'cat', 'deer', 'dog', 'frog', 'horse', 'ship', 'truck']\n"
     ]
    }
   ],
   "source": [
    "tfms = transforms.Compose(\n",
    "    [transforms.ToTensor(),\n",
    "     transforms.RandomCrop((image_size, image_size)),\n",
    "     transforms.RandomHorizontalFlip()\n",
    "    ])\n",
    "\n",
    "ds_train = torchvision.datasets.CIFAR10(root='./data', train=True, download=True, transform=tfms)\n",
    "ds_test = torchvision.datasets.CIFAR10(root='./data', train=False, download=True, transform=tfms)\n",
    "n_classes = len(ds_train.classes)\n",
    "print(f'# Classes: {n_classes} -> {ds_train.classes}')"
   ]
  },
  {
   "cell_type": "markdown",
   "id": "c949fa13-4ee1-422c-a838-6c26b130f765",
   "metadata": {},
   "source": [
    "## Model"
   ]
  },
  {
   "cell_type": "code",
   "execution_count": 7,
   "id": "62a597c8-fc5a-4820-ab09-843c6cbdfe63",
   "metadata": {},
   "outputs": [
    {
     "name": "stdout",
     "output_type": "stream",
     "text": [
      "==========================================================================================\n",
      "Layer (type:depth-idx)                   Output Shape              Param #\n",
      "==========================================================================================\n",
      "├─CCT_Tokenizer: 1-1                     [-1, 49, 128]             --\n",
      "|    └─Sequential: 2-1                   [-1, 128, 7, 7]           --\n",
      "|    |    └─CCTConvBlock: 3-1            [-1, 64, 15, 15]          1,728\n",
      "|    |    └─CCTConvBlock: 3-2            [-1, 128, 7, 7]           73,728\n",
      "├─Dropout: 1-2                           [-1, 49, 128]             --\n",
      "├─ModuleList: 1                          []                        --\n",
      "|    └─Block: 2-2                        [-1, 49, 128]             --\n",
      "|    |    └─LayerNorm: 3-3               [-1, 49, 128]             256\n",
      "|    |    └─Attention: 3-4               [-1, 49, 128]             65,664\n",
      "|    |    └─Identity: 3-5                [-1, 49, 128]             --\n",
      "|    |    └─LayerNorm: 3-6               [-1, 49, 128]             256\n",
      "|    |    └─Mlp: 3-7                     [-1, 49, 128]             131,712\n",
      "|    |    └─Identity: 3-8                [-1, 49, 128]             --\n",
      "|    └─Block: 2-3                        [-1, 49, 128]             --\n",
      "|    |    └─LayerNorm: 3-9               [-1, 49, 128]             256\n",
      "|    |    └─Attention: 3-10              [-1, 49, 128]             65,664\n",
      "|    |    └─DropPath: 3-11               [-1, 49, 128]             --\n",
      "|    |    └─LayerNorm: 3-12              [-1, 49, 128]             256\n",
      "|    |    └─Mlp: 3-13                    [-1, 49, 128]             131,712\n",
      "|    |    └─DropPath: 3-14               [-1, 49, 128]             --\n",
      "├─LayerNorm: 1-3                         [-1, 49, 128]             256\n",
      "├─Sequential: 1-4                        [-1, 10]                  --\n",
      "|    └─SequencePooling: 2-4              [-1, 128]                 --\n",
      "|    |    └─Linear: 3-15                 [-1, 49, 1]               129\n",
      "|    └─Linear: 2-5                       [-1, 10]                  1,290\n",
      "==========================================================================================\n",
      "Total params: 472,907\n",
      "Trainable params: 472,907\n",
      "Non-trainable params: 0\n",
      "Total mult-adds (M): 1.49\n",
      "==========================================================================================\n",
      "Input size (MB): 0.01\n",
      "Forward/backward pass size (MB): 1.10\n",
      "Params size (MB): 1.80\n",
      "Estimated Total Size (MB): 2.92\n",
      "==========================================================================================\n"
     ]
    }
   ],
   "source": [
    "from torchsummary import summary\n",
    "\n",
    "model = CCT_Transformer(img_size=[image_size], \n",
    "                        in_channels=image_ch,\n",
    "                        emb_dim=emb_dim,\n",
    "                        n_classes=n_classes,\n",
    "                        num_heads=num_heads,\n",
    "                        depth=depth,\n",
    "                        drop_path_rate=stochastic_depth_rate)\n",
    "\n",
    "_ = summary(model, (image_ch, image_size, image_size))"
   ]
  },
  {
   "cell_type": "code",
   "execution_count": 8,
   "id": "5d536562-66ac-4f8f-8169-300f1d346c03",
   "metadata": {},
   "outputs": [
    {
     "ename": "NameError",
     "evalue": "name 'classes' is not defined",
     "output_type": "error",
     "traceback": [
      "\u001b[0;31m---------------------------------------------------------------------------\u001b[0m",
      "\u001b[0;31mNameError\u001b[0m                                 Traceback (most recent call last)",
      "Cell \u001b[0;32mIn[8], line 1\u001b[0m\n\u001b[0;32m----> 1\u001b[0m cct \u001b[38;5;241m=\u001b[39m CCT_Transformer(img_size\u001b[38;5;241m=\u001b[39m[image_size, image_size], in_channels\u001b[38;5;241m=\u001b[39mimage_ch, emb_dim\u001b[38;5;241m=\u001b[39memb_dim, n_classes\u001b[38;5;241m=\u001b[39m\u001b[38;5;28mlen\u001b[39m(\u001b[43mclasses\u001b[49m), num_heads\u001b[38;5;241m=\u001b[39mnum_heads, depth\u001b[38;5;241m=\u001b[39m\u001b[38;5;241m2\u001b[39m, drop_path_rate\u001b[38;5;241m=\u001b[39mstochastic_depth_rate)\n",
      "\u001b[0;31mNameError\u001b[0m: name 'classes' is not defined"
     ]
    }
   ],
   "source": [
    "cct = CCT_Transformer(img_size=[image_size, image_size], in_channels=image_ch, emb_dim=emb_dim, n_classes=len(classes), num_heads=num_heads, depth=2, drop_path_rate=stochastic_depth_rate)"
   ]
  },
  {
   "cell_type": "code",
   "execution_count": null,
   "id": "ceadafed-2e71-416f-bf3d-5d26287b0a46",
   "metadata": {},
   "outputs": [],
   "source": [
    "emb_dim = 128\n",
    "num_heads = 2\n",
    "depth = 2\n",
    "stochastic_depth_rate = 0.1\n",
    "\n",
    "learning_rate = 0.001\n",
    "weight_decay = 0.0001\n",
    "batch_size = 128\n",
    "num_epochs = 30\n",
    "image_size = 32\n",
    "image_ch = 3"
   ]
  },
  {
   "cell_type": "code",
   "execution_count": null,
   "id": "9d197637-fa42-4989-bbc6-d445c527c2a1",
   "metadata": {},
   "outputs": [],
   "source": []
  },
  {
   "cell_type": "code",
   "execution_count": null,
   "id": "55c50684-a91d-4bf9-bf8f-adb9c245bfaa",
   "metadata": {},
   "outputs": [],
   "source": []
  },
  {
   "cell_type": "markdown",
   "id": "edc662ef-5ae7-4c83-a512-d0b260e67d4f",
   "metadata": {},
   "source": [
    "## Training"
   ]
  },
  {
   "cell_type": "code",
   "execution_count": 9,
   "id": "c3f2cb79-0a3f-4d4d-b9ff-298e564aa215",
   "metadata": {},
   "outputs": [
    {
     "data": {
      "text/plain": [
       "'cuda'"
      ]
     },
     "execution_count": 9,
     "metadata": {},
     "output_type": "execute_result"
    }
   ],
   "source": [
    "import torch.optim as optim\n",
    "import torchmetrics\n",
    "\n",
    "dl_train = DataLoader(ds_train, batch_size=batch_size, shuffle=True)\n",
    "dl_test = DataLoader(ds_test, batch_size=batch_size, shuffle=False)\n",
    "\n",
    "criterion = nn.CrossEntropyLoss(label_smoothing=0.1)\n",
    "optimizer = optim.AdamW(model.parameters(), lr=learning_rate, weight_decay=weight_decay)\n",
    "device = 'cuda' if torch.cuda.is_available() else 'cpu'\n",
    "device"
   ]
  },
  {
   "cell_type": "code",
   "execution_count": 10,
   "id": "17a930a8-98f3-4696-a144-c0d0999c6f5f",
   "metadata": {},
   "outputs": [
    {
     "name": "stdout",
     "output_type": "stream",
     "text": [
      "[Epoch 1/30] Train loss: 1.7859 - Test loss: 1.5982 Train accuracy: 38.496 % - Test  accuracy: 47.45 %\n",
      "[Epoch 2/30] Train loss: 1.4919 - Test loss: 1.4016 Train accuracy: 54.084 % - Test  accuracy: 58.37 %\n",
      "[Epoch 3/30] Train loss: 1.3547 - Test loss: 1.3217 Train accuracy: 61.018 % - Test  accuracy: 62.45 %\n",
      "[Epoch 4/30] Train loss: 1.2649 - Test loss: 1.2324 Train accuracy: 65.496 % - Test  accuracy: 66.88 %\n",
      "[Epoch 5/30] Train loss: 1.1966 - Test loss: 1.1944 Train accuracy: 68.672 % - Test  accuracy: 68.86 %\n",
      "[Epoch 6/30] Train loss: 1.1406 - Test loss: 1.232 Train accuracy: 71.372 % - Test  accuracy: 67.83 %\n",
      "[Epoch 7/30] Train loss: 1.1042 - Test loss: 1.1434 Train accuracy: 73.184 % - Test  accuracy: 70.85 %\n",
      "[Epoch 8/30] Train loss: 1.0594 - Test loss: 1.1128 Train accuracy: 75.152 % - Test  accuracy: 73.26 %\n",
      "[Epoch 9/30] Train loss: 1.0322 - Test loss: 1.0842 Train accuracy: 76.462 % - Test  accuracy: 73.65 %\n",
      "[Epoch 10/30] Train loss: 1.006 - Test loss: 1.0689 Train accuracy: 77.8 % - Test  accuracy: 75.07 %\n",
      "[Epoch 11/30] Train loss: 0.9843 - Test loss: 1.0699 Train accuracy: 78.754 % - Test  accuracy: 74.92 %\n",
      "[Epoch 12/30] Train loss: 0.9601 - Test loss: 1.0397 Train accuracy: 79.798 % - Test  accuracy: 76.16 %\n",
      "[Epoch 13/30] Train loss: 0.9302 - Test loss: 1.0355 Train accuracy: 81.182 % - Test  accuracy: 76.65 %\n",
      "[Epoch 14/30] Train loss: 0.9163 - Test loss: 1.0223 Train accuracy: 81.774 % - Test  accuracy: 77.22 %\n",
      "[Epoch 15/30] Train loss: 0.8993 - Test loss: 1.0204 Train accuracy: 82.746 % - Test  accuracy: 77.47 %\n",
      "[Epoch 16/30] Train loss: 0.885 - Test loss: 1.0285 Train accuracy: 83.18 % - Test  accuracy: 77.09 %\n",
      "[Epoch 17/30] Train loss: 0.859 - Test loss: 0.9966 Train accuracy: 84.584 % - Test  accuracy: 78.84 %\n",
      "[Epoch 18/30] Train loss: 0.8483 - Test loss: 1.0006 Train accuracy: 84.944 % - Test  accuracy: 78.45 %\n",
      "[Epoch 19/30] Train loss: 0.8347 - Test loss: 0.9771 Train accuracy: 85.524 % - Test  accuracy: 79.29 %\n",
      "[Epoch 20/30] Train loss: 0.8227 - Test loss: 0.9676 Train accuracy: 86.178 % - Test  accuracy: 79.29 %\n",
      "[Epoch 21/30] Train loss: 0.8051 - Test loss: 0.9821 Train accuracy: 86.926 % - Test  accuracy: 79.3 %\n",
      "[Epoch 22/30] Train loss: 0.8009 - Test loss: 0.9905 Train accuracy: 87.15 % - Test  accuracy: 79.6 %\n",
      "[Epoch 23/30] Train loss: 0.7874 - Test loss: 0.9811 Train accuracy: 87.684 % - Test  accuracy: 79.65 %\n",
      "[Epoch 24/30] Train loss: 0.7768 - Test loss: 0.9852 Train accuracy: 88.2 % - Test  accuracy: 79.4 %\n",
      "[Epoch 25/30] Train loss: 0.7608 - Test loss: 0.9791 Train accuracy: 88.942 % - Test  accuracy: 80.39 %\n",
      "[Epoch 26/30] Train loss: 0.7565 - Test loss: 1.0105 Train accuracy: 89.204 % - Test  accuracy: 78.85 %\n",
      "[Epoch 27/30] Train loss: 0.7478 - Test loss: 0.9661 Train accuracy: 89.558 % - Test  accuracy: 80.47 %\n",
      "[Epoch 28/30] Train loss: 0.7391 - Test loss: 0.9751 Train accuracy: 89.836 % - Test  accuracy: 80.61 %\n",
      "[Epoch 29/30] Train loss: 0.7302 - Test loss: 0.9867 Train accuracy: 90.442 % - Test  accuracy: 79.77 %\n",
      "[Epoch 30/30] Train loss: 0.7176 - Test loss: 0.9952 Train accuracy: 90.98 % - Test  accuracy: 79.93 %\n"
     ]
    },
    {
     "data": {
      "image/png": "[encoded data removed]",
      "text/plain": [
       "<Figure size 640x480 with 1 Axes>"
      ]
     },
     "metadata": {},
     "output_type": "display_data"
    }
   ],
   "source": [
    "losses_train = []\n",
    "losses_test = []\n",
    "model.to(device)\n",
    "\n",
    "for epoch_idx in range(num_epochs):\n",
    "    \n",
    "    model = model.train()\n",
    "    train_running_loss = 0.0\n",
    "    train_total = 0\n",
    "    train_correct = 0\n",
    "    \n",
    "    for batch in dl_train:\n",
    "        x, y = batch\n",
    "        x = x.to(device)\n",
    "        y = y.to(device)\n",
    "        optimizer.zero_grad()\n",
    "        logits = model(x)\n",
    "        loss = criterion(logits, y)\n",
    "        loss.backward()\n",
    "        optimizer.step()\n",
    "\n",
    "        train_running_loss += loss.item() * x.shape[0]\n",
    "        # Accuracy metrics\n",
    "        _, predicted_class = torch.max(logits.data, dim=1)\n",
    "        train_total += y.size(0)\n",
    "        train_correct += (predicted_class == y).sum().item()\n",
    "\n",
    "    train_running_loss = train_running_loss / len(dl_train.dataset)\n",
    "    losses_train.append(train_running_loss)\n",
    "    \n",
    "    model = model.eval()    \n",
    "    test_running_loss = 0.0\n",
    "    test_total = 0\n",
    "    test_correct = 0\n",
    "    \n",
    "    for batch in dl_test:\n",
    "        x, y = batch\n",
    "        x = x.to(device)\n",
    "        y = y.to(device)\n",
    "        with torch.no_grad():\n",
    "            logits = model(x)\n",
    "            loss = criterion(logits, y)\n",
    "        \n",
    "        test_running_loss += loss.item() * x.shape[0]\n",
    "        # Accuracy metrics\n",
    "        _, predicted_class = torch.max(logits.data, dim=1)\n",
    "        test_total += y.size(0)\n",
    "        test_correct += (predicted_class == y).sum().item()\n",
    "\n",
    "    test_running_loss = test_running_loss / len(dl_test.dataset)\n",
    "    losses_test.append(test_running_loss)\n",
    "\n",
    "    print(f'[Epoch {epoch_idx+1}/{num_epochs}] Train loss: {np.around(train_running_loss, 4)} - Test loss: {np.around(test_running_loss, 4)} Train accuracy: {np.around(100 * train_correct / train_total, 4)} % - Test  accuracy: {np.around(100 * test_correct / test_total, 4)} %')\n",
    "\n",
    "losses_train = np.array(losses_train)\n",
    "losses_test = np.array(losses_test)\n",
    "\n",
    "plt.plot(losses_train, label=\"train_loss\")\n",
    "plt.plot(losses_test, label=\"test_loss\")\n",
    "plt.xlabel(\"Epochs\")\n",
    "plt.ylabel(\"Loss\")\n",
    "plt.title(\"Train and Test Losses Over Epochs\", fontsize=14)\n",
    "plt.legend()\n",
    "plt.grid()\n",
    "plt.show()"
   ]
  },
  {
   "cell_type": "code",
   "execution_count": null,
   "id": "9640c558-e1c5-4a81-973b-fd79e53f7b1a",
   "metadata": {},
   "outputs": [],
   "source": []
  },
  {
   "cell_type": "code",
   "execution_count": null,
   "id": "026622cc-c97a-4aeb-b7af-963c85cc8822",
   "metadata": {},
   "outputs": [],
   "source": []
  }
 ],
 "metadata": {
  "kernelspec": {
   "display_name": "paper01",
   "language": "python",
   "name": "paper01"
  },
  "language_info": {
   "codemirror_mode": {
    "name": "ipython",
    "version": 3
   },
   "file_extension": ".py",
   "mimetype": "text/x-python",
   "name": "python",
   "nbconvert_exporter": "python",
   "pygments_lexer": "ipython3",
   "version": "3.9.18"
  }
 },
 "nbformat": 4,
 "nbformat_minor": 5
}
